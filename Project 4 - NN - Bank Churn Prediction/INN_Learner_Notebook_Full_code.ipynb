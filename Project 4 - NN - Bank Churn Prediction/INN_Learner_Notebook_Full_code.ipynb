{
  "cells": [
    {
      "cell_type": "markdown",
      "source": [
        "<center><font size=6> Bank Churn Prediction </font></center>"
      ],
      "metadata": {
        "id": "EoO7ROnuht51"
      }
    },
    {
      "cell_type": "markdown",
      "source": [
        "## Problem Statement"
      ],
      "metadata": {
        "id": "Q__obHNhdHtV"
      }
    },
    {
      "cell_type": "markdown",
      "source": [
        "### Context"
      ],
      "metadata": {
        "id": "WSyQJZSAaPA3"
      }
    },
    {
      "cell_type": "markdown",
      "source": [
        "Businesses like banks which provide service have to worry about problem of 'Customer Churn' i.e. customers leaving and joining another service provider. It is important to understand which aspects of the service influence a customer's decision in this regard. Management can concentrate efforts on improvement of service, keeping in mind these priorities."
      ],
      "metadata": {
        "id": "vJQ5k8umdJdN"
      }
    },
    {
      "cell_type": "markdown",
      "source": [
        "### Objective"
      ],
      "metadata": {
        "id": "s749lpTNaRkN"
      }
    },
    {
      "cell_type": "markdown",
      "source": [
        "You as a Data scientist with the  bank need to  build a neural network based classifier that can determine whether a customer will leave the bank  or not in the next 6 months."
      ],
      "metadata": {
        "id": "XbrLMQQ6dKQU"
      }
    },
    {
      "cell_type": "markdown",
      "source": [
        "### Data Dictionary"
      ],
      "metadata": {
        "id": "Tsb28swdaVAs"
      }
    },
    {
      "cell_type": "markdown",
      "source": [
        "* CustomerId: Unique ID which is assigned to each customer\n",
        "\n",
        "* Surname: Last name of the customer\n",
        "\n",
        "* CreditScore: It defines the credit history of the customer.\n",
        "  \n",
        "* Geography: A customer’s location\n",
        "   \n",
        "* Gender: It defines the Gender of the customer\n",
        "   \n",
        "* Age: Age of the customer\n",
        "    \n",
        "* Tenure: Number of years for which the customer has been with the bank\n",
        "\n",
        "* NumOfProducts: refers to the number of products that a customer has purchased through the bank.\n",
        "\n",
        "* Balance: Account balance\n",
        "\n",
        "* HasCrCard: It is a categorical variable which decides whether the customer has credit card or not.\n",
        "\n",
        "* EstimatedSalary: Estimated salary\n",
        "\n",
        "* isActiveMember: Is is a categorical variable which decides whether the customer is active member of the bank or not ( Active member in the sense, using bank products regularly, making transactions etc )\n",
        "\n",
        "* Exited : whether or not the customer left the bank within six month. It can take two values\n",
        "** 0=No ( Customer did not leave the bank )\n",
        "** 1=Yes ( Customer left the bank )"
      ],
      "metadata": {
        "id": "-mquomUwdMol"
      }
    },
    {
      "cell_type": "code",
      "source": [],
      "metadata": {
        "id": "oyTYkHrRc0kz"
      },
      "execution_count": null,
      "outputs": []
    },
    {
      "cell_type": "markdown",
      "metadata": {
        "id": "FHHrSIl4c6Yn"
      },
      "source": [
        "## Importing necessary libraries"
      ]
    },
    {
      "cell_type": "code",
      "execution_count": 1,
      "metadata": {
        "id": "IfeZclzIHUNs"
      },
      "outputs": [],
      "source": [
        "# Libraries to help with reading and manipulating data\n",
        "import numpy as np\n",
        "import pandas as pd\n",
        "# libaries to help with data visualization\n",
        "import matplotlib.pyplot as pyplot\n",
        "import matplotlib.pyplot as plt\n",
        "import seaborn as sns\n",
        "# Library to split data\n",
        "from sklearn.model_selection import train_test_split\n",
        "# library to import to standardize the data\n",
        "from sklearn.preprocessing import StandardScaler\n",
        "#To import different metrics\n",
        "from sklearn.metrics import explained_variance_score, mean_squared_error, r2_score, mean_absolute_error\n",
        "#Importing classback API\n",
        "from keras import callbacks\n",
        "# Importing tensorflow library\n",
        "import tensorflow as tf\n",
        "# importing different functions to build models\n",
        "from tensorflow.keras.layers import Dense, Dropout,InputLayer\n",
        "from tensorflow.keras.models import Sequential\n",
        "# Importing Batch Normalization\n",
        "from keras.layers import BatchNormalization\n",
        "# Importing backend\n",
        "from tensorflow.keras import backend\n",
        "# Importing shffule\n",
        "from random import shuffle\n",
        "from keras.callbacks import ModelCheckpoint\n",
        "# Importing optimizers\n",
        "from tensorflow.keras.optimizers import Adam\n",
        "from tensorflow.keras.optimizers import RMSprop\n",
        "# Library to avoid the warnings\n",
        "import warnings\n",
        "warnings.filterwarnings(\"ignore\")"
      ]
    },
    {
      "cell_type": "markdown",
      "metadata": {
        "id": "z7ubXtC8HUOA"
      },
      "source": [
        "## Loading the dataset"
      ]
    },
    {
      "cell_type": "code",
      "source": [
        "data = pd.read_csv('https://raw.githubusercontent.com/lhughey/AIML_Course/refs/heads/main/Project%204%20-%20NN%20-%20Bank%20Churn%20Prediction/Churn.csv')"
      ],
      "metadata": {
        "id": "xGZLJmZUdkPq"
      },
      "execution_count": 2,
      "outputs": []
    },
    {
      "cell_type": "markdown",
      "source": [
        "## Data Overview"
      ],
      "metadata": {
        "id": "eRxrJ2MHd_Sf"
      }
    },
    {
      "cell_type": "code",
      "source": [],
      "metadata": {
        "id": "4sPbCEoLuQBk"
      },
      "execution_count": null,
      "outputs": []
    },
    {
      "cell_type": "markdown",
      "metadata": {
        "id": "W036jsgwRdVN"
      },
      "source": [
        "## Exploratory Data Analysis"
      ]
    },
    {
      "cell_type": "markdown",
      "source": [
        "### Univariate Analysis"
      ],
      "metadata": {
        "id": "nSFkV8KJiZSv"
      }
    },
    {
      "cell_type": "code",
      "source": [],
      "metadata": {
        "id": "g1Lxry70ibDw"
      },
      "execution_count": null,
      "outputs": []
    },
    {
      "cell_type": "markdown",
      "source": [
        "### Bivariate Analysis"
      ],
      "metadata": {
        "id": "OlHTHF4glMxS"
      }
    },
    {
      "cell_type": "code",
      "source": [],
      "metadata": {
        "id": "y_pKBXS9lLel"
      },
      "execution_count": null,
      "outputs": []
    },
    {
      "cell_type": "markdown",
      "metadata": {
        "id": "CUXPaUwZHUO8"
      },
      "source": [
        "## Data Preprocessing"
      ]
    },
    {
      "cell_type": "markdown",
      "metadata": {
        "id": "1nEEjgwleiMv"
      },
      "source": [
        "### Dummy Variable Creation"
      ]
    },
    {
      "cell_type": "code",
      "execution_count": null,
      "metadata": {
        "id": "LJ19WoAYc6Yx"
      },
      "outputs": [],
      "source": []
    },
    {
      "cell_type": "markdown",
      "source": [
        "### Train-validation-test Split"
      ],
      "metadata": {
        "id": "wgpx0xlSTlzN"
      }
    },
    {
      "cell_type": "code",
      "execution_count": null,
      "metadata": {
        "id": "VTb3JwlaHUO-"
      },
      "outputs": [],
      "source": []
    },
    {
      "cell_type": "markdown",
      "metadata": {
        "id": "qlSyq5fNHUPp"
      },
      "source": [
        "### Data Normalization"
      ]
    },
    {
      "cell_type": "code",
      "source": [],
      "metadata": {
        "id": "ltsmUrMiuegY"
      },
      "execution_count": null,
      "outputs": []
    },
    {
      "cell_type": "markdown",
      "source": [
        "## Model Building"
      ],
      "metadata": {
        "id": "ZLQMVCywT87j"
      }
    },
    {
      "cell_type": "markdown",
      "source": [
        "### Model Evaluation Criterion"
      ],
      "metadata": {
        "id": "SzDpHlsFT_QA"
      }
    },
    {
      "cell_type": "markdown",
      "metadata": {
        "id": "FayG94iciXVS"
      },
      "source": [
        "Write down the logic for choosing the metric that would be the best metric for this business scenario.\n",
        "\n",
        "-\n"
      ]
    },
    {
      "cell_type": "code",
      "source": [],
      "metadata": {
        "id": "3drHnx12DSf2"
      },
      "execution_count": null,
      "outputs": []
    },
    {
      "cell_type": "markdown",
      "metadata": {
        "id": "735HwSYiDSf1"
      },
      "source": [
        "### Neural Network with SGD Optimizer"
      ]
    },
    {
      "cell_type": "code",
      "execution_count": null,
      "metadata": {
        "id": "ScqNP3QjDSf3"
      },
      "outputs": [],
      "source": []
    },
    {
      "cell_type": "markdown",
      "source": [
        "## Model Performance Improvement"
      ],
      "metadata": {
        "id": "ygzPHkE_Anaw"
      }
    },
    {
      "cell_type": "markdown",
      "metadata": {
        "id": "EcEiT7Vyc6Y0"
      },
      "source": [
        "### Neural Network with Adam Optimizer"
      ]
    },
    {
      "cell_type": "code",
      "source": [],
      "metadata": {
        "id": "_5anPDAru0Vq"
      },
      "execution_count": null,
      "outputs": []
    },
    {
      "cell_type": "markdown",
      "source": [
        "### Neural Network with Adam Optimizer and Dropout"
      ],
      "metadata": {
        "id": "I-86J6fRu0vu"
      }
    },
    {
      "cell_type": "code",
      "source": [],
      "metadata": {
        "id": "2WkE_mqIu0SP"
      },
      "execution_count": null,
      "outputs": []
    },
    {
      "cell_type": "markdown",
      "source": [
        "### Neural Network with Balanced Data (by applying SMOTE) and SGD Optimizer"
      ],
      "metadata": {
        "id": "m1Hav_XNu6ro"
      }
    },
    {
      "cell_type": "code",
      "source": [],
      "metadata": {
        "id": "vAHO1_vYu0DN"
      },
      "execution_count": null,
      "outputs": []
    },
    {
      "cell_type": "markdown",
      "source": [
        "### Neural Network with Balanced Data (by applying SMOTE) and Adam Optimizer"
      ],
      "metadata": {
        "id": "sFhOUq6au-xp"
      }
    },
    {
      "cell_type": "code",
      "source": [],
      "metadata": {
        "id": "8egmXgW0u-Q0"
      },
      "execution_count": null,
      "outputs": []
    },
    {
      "cell_type": "markdown",
      "source": [
        "### Neural Network with Balanced Data (by applying SMOTE), Adam Optimizer, and Dropout"
      ],
      "metadata": {
        "id": "rTSK-_5YvBIR"
      }
    },
    {
      "cell_type": "code",
      "source": [],
      "metadata": {
        "id": "3Jqa4h2yuuE7"
      },
      "execution_count": null,
      "outputs": []
    },
    {
      "cell_type": "markdown",
      "metadata": {
        "id": "srfZVuMKc6Y_"
      },
      "source": [
        "## Model Performance Comparison and Final Model Selection"
      ]
    },
    {
      "cell_type": "code",
      "source": [],
      "metadata": {
        "id": "_vhQsZT5MR_9"
      },
      "execution_count": null,
      "outputs": []
    },
    {
      "cell_type": "markdown",
      "metadata": {
        "id": "XE1iHOqqOEmV"
      },
      "source": [
        "## Actionable Insights and Business Recommendations"
      ]
    },
    {
      "cell_type": "markdown",
      "source": [
        "*\n",
        "\n"
      ],
      "metadata": {
        "id": "ouNNiEhUdhZL"
      }
    },
    {
      "cell_type": "markdown",
      "source": [
        "<font size=6 color='blue'>Power Ahead</font>\n",
        "___"
      ],
      "metadata": {
        "id": "6R23W-K3CmM9"
      }
    }
  ],
  "metadata": {
    "colab": {
      "collapsed_sections": [
        "Q__obHNhdHtV",
        "WSyQJZSAaPA3",
        "s749lpTNaRkN",
        "Tsb28swdaVAs",
        "FHHrSIl4c6Yn",
        "z7ubXtC8HUOA",
        "eRxrJ2MHd_Sf",
        "W036jsgwRdVN",
        "nSFkV8KJiZSv",
        "OlHTHF4glMxS",
        "CUXPaUwZHUO8",
        "1nEEjgwleiMv",
        "wgpx0xlSTlzN",
        "qlSyq5fNHUPp",
        "ZLQMVCywT87j",
        "SzDpHlsFT_QA",
        "735HwSYiDSf1",
        "ygzPHkE_Anaw",
        "EcEiT7Vyc6Y0",
        "I-86J6fRu0vu",
        "m1Hav_XNu6ro",
        "sFhOUq6au-xp",
        "srfZVuMKc6Y_",
        "XE1iHOqqOEmV"
      ],
      "provenance": [],
      "gpuType": "T4"
    },
    "kernelspec": {
      "display_name": "Python 3",
      "name": "python3"
    },
    "language_info": {
      "codemirror_mode": {
        "name": "ipython",
        "version": 3
      },
      "file_extension": ".py",
      "mimetype": "text/x-python",
      "name": "python",
      "nbconvert_exporter": "python",
      "pygments_lexer": "ipython3",
      "version": "3.8.8"
    },
    "accelerator": "GPU"
  },
  "nbformat": 4,
  "nbformat_minor": 0
}